{
 "cells": [
  {
   "cell_type": "code",
   "execution_count": null,
   "metadata": {},
   "outputs": [],
   "source": [
    "import requests\n",
    "\n",
    "market = \"BTCUSDT\"\n",
    "tick_interval = \"1h\"\n",
    "\n",
    "url = f\"https://api.binance.com/api/v3/klines?symbol={market}&interval={tick_interval}\"\n",
    "data = requests.get(url).json()\n"
   ]
  },
  {
   "cell_type": "code",
   "execution_count": null,
   "metadata": {},
   "outputs": [],
   "source": [
    "from binance.client import Client\n",
    "import pandas as pd\n",
    "from datetime import timedelta, datetime\n",
    "\n",
    "client = Client()\n",
    "from_date = datetime.now() - timedelta(days=600)\n",
    "candles = client.get_historical_klines(\n",
    "    symbol=\"BTCUSDT\",\n",
    "    interval=Client.KLINE_INTERVAL_1DAY,\n",
    "    start_str=from_date.isoformat(),\n",
    ")\n",
    "\n",
    "cd = pd.DataFrame(\n",
    "    candles,\n",
    "    columns=[\n",
    "        \"Date\",\n",
    "        \"Open\",\n",
    "        \"High\",\n",
    "        \"Low\",\n",
    "        \"Close\",\n",
    "        \"Volume\",\n",
    "        \"Close time\",\n",
    "        \"Quote asset volume\",\n",
    "        \"Number of trades\",\n",
    "        \"Taker buy base asset volume\",\n",
    "        \"Taker buy quote asset volume\",\n",
    "        \"Can be ignored\",\n",
    "    ],\n",
    "    dtype=float,\n",
    ")\n",
    "\n",
    "for i in cd.index:\n",
    "    cd.at[i, \"Date\"] = datetime.fromtimestamp(cd.at[i, \"Date\"] / 1000)\n",
    "\n",
    "cd.index = pd.DatetimeIndex(cd[\"Date\"])\n",
    "cd.head(3)\n"
   ]
  },
  {
   "cell_type": "code",
   "execution_count": null,
   "metadata": {},
   "outputs": [],
   "source": [
    "import mplfinance as mpf\n",
    "from datetime import datetime\n",
    "\n",
    "chart_data = cd[[\"Date\", \"Open\", \"High\", \"Low\", \"Close\", \"Volume\"]]\n",
    "\n",
    "mpf.plot(chart_data.tail(50), type=\"candle\")\n"
   ]
  },
  {
   "cell_type": "code",
   "execution_count": null,
   "metadata": {},
   "outputs": [],
   "source": [
    "import pandas as pd\n",
    "from backtesting.lib import SignalStrategy, TrailingStrategy\n",
    "from backtesting.test import SMA\n",
    "\n",
    "\n",
    "class SmaCross(SignalStrategy, TrailingStrategy):\n",
    "    n1 = 20\n",
    "    n2 = 50\n",
    "\n",
    "    def init(self):\n",
    "        # In init() and in next() it is important to call the\n",
    "        # super method to properly initialize the parent classes\n",
    "        super().init()\n",
    "\n",
    "        # Precompute the two moving averages\n",
    "        sma1 = self.I(SMA, self.data.Close, self.n1)\n",
    "        sma2 = self.I(SMA, self.data.Close, self.n2)\n",
    "\n",
    "        # Where sma1 crosses sma2 upwards. Diff gives us [-1,0, *1*]\n",
    "        signal = (pd.Series(sma1) > sma2).astype(int).diff().fillna(0)\n",
    "        signal = signal.replace(-1, 0)  # Upwards/long only\n",
    "\n",
    "        # Use 95% of available liquidity (at the time) on each order.\n",
    "        # (Leaving a value of 1. would instead buy a single share.)\n",
    "        entry_size = signal * 0.95\n",
    "\n",
    "        # Set order entry sizes using the method provided by\n",
    "        # `SignalStrategy`. See the docs.\n",
    "        self.set_signal(entry_size=entry_size)\n",
    "\n",
    "        # Set trailing stop-loss to 2x ATR using\n",
    "        # the method provided by `TrailingStrategy`\n",
    "        self.set_trailing_sl(2)\n",
    "\n",
    "\n",
    "from backtesting import Backtest\n",
    "from backtesting.test import GOOG\n",
    "\n",
    "bt = Backtest(chart_data, SmaCross, cash=100000, commission=0.002)\n",
    "\n",
    "bt.run()\n",
    "bt.plot(filename=\"../src/results/SmaCross\")\n"
   ]
  },
  {
   "cell_type": "code",
   "execution_count": null,
   "metadata": {},
   "outputs": [],
   "source": [
    "from talib import ADX, RSI, EMA, SMA\n",
    "import matplotlib.pyplot as plt\n",
    "\n",
    "rsi = RSI(chart_data[\"Close\"])\n",
    "rsiMA = SMA(rsi)\n",
    "\n",
    "adx = ADX(chart_data[\"High\"], chart_data[\"Low\"], chart_data[\"Close\"])\n",
    "adxMA = SMA(adx)\n",
    "\n",
    "ema = EMA(chart_data[\"Close\"], timeperiod=200)\n",
    "\n",
    "figure, axis = plt.subplots(3, 1, figsize=(15, 5))\n",
    "\n",
    "axis[0].set_title(\"EMA\")\n",
    "axis[0].plot(ema)\n",
    "\n",
    "axis[1].set_title(\"RSI\")\n",
    "axis[1].plot(rsi)\n",
    "axis[1].plot(rsiMA)\n",
    "\n",
    "axis[2].set_title(\"ADX\")\n",
    "axis[2].plot(adx)\n",
    "axis[2].plot(adxMA)\n",
    "\n",
    "\n",
    "# plt.figure(figsize=(15,5))\n",
    "# plt.title('RSI')\n",
    "# plt.plot(rsi)\n",
    "\n",
    "# plt.title('ADX')\n",
    "# plt.plot(adx)\n"
   ]
  },
  {
   "cell_type": "code",
   "execution_count": null,
   "metadata": {},
   "outputs": [],
   "source": [
    "indicatorsDF = pd.DataFrame(rsi, columns=[\"rsi\"])\n",
    "emaDF = pd.DataFrame(ema, columns=[\"ema\"])\n",
    "adxDF = pd.DataFrame(adx, columns=[\"adx\"])\n",
    "indicatorsDF.merge(adxDF, right_index=True, left_index=True).merge(\n",
    "    emaDF, right_index=True, left_index=True\n",
    ")\n"
   ]
  },
  {
   "cell_type": "code",
   "execution_count": null,
   "metadata": {},
   "outputs": [],
   "source": [
    "import ccxt\n",
    "\n",
    "exchange = ccxt.binanceus({})\n",
    "bars = exchange.fetch_ohlcv(\"ETH/USDT\", timeframe=\"1m\", limit=400)\n",
    "print(bars)\n"
   ]
  },
  {
   "cell_type": "code",
   "execution_count": null,
   "metadata": {},
   "outputs": [],
   "source": []
  }
 ],
 "metadata": {
  "interpreter": {
   "hash": "5d19de88e3b89654211504f7f5c357a5ec1eecb00d3ae0c1ff2bdb4fa9320466"
  },
  "kernelspec": {
   "display_name": "Python 3.8.10 ('pytrading-LTrEfmX8-py3.8')",
   "language": "python",
   "name": "python3"
  },
  "language_info": {
   "codemirror_mode": {
    "name": "ipython",
    "version": 3
   },
   "file_extension": ".py",
   "mimetype": "text/x-python",
   "name": "python",
   "nbconvert_exporter": "python",
   "pygments_lexer": "ipython3",
   "version": "3.8.10"
  },
  "orig_nbformat": 4
 },
 "nbformat": 4,
 "nbformat_minor": 2
}
